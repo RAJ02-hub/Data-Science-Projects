{
 "cells": [
  {
   "cell_type": "code",
   "execution_count": 1,
   "id": "5a3c436a",
   "metadata": {},
   "outputs": [],
   "source": [
    "import numpy as np\n",
    "import pandas as pd\n",
    "import ast"
   ]
  },
  {
   "cell_type": "code",
   "execution_count": 2,
   "id": "f3eb690a",
   "metadata": {},
   "outputs": [],
   "source": [
    "# Read the movie and credits datasets\n",
    "movies = pd.read_csv('tmdb_5000_movies.csv')\n",
    "credits = pd.read_csv('tmdb_5000_credits.csv')"
   ]
  },
  {
   "cell_type": "code",
   "execution_count": 3,
   "id": "9fcb5963",
   "metadata": {},
   "outputs": [],
   "source": [
    "movies.head()"
   ]
  },
  {
   "cell_type": "code",
   "execution_count": 4,
   "id": "3bece7f6",
   "metadata": {},
   "outputs": [],
   "source": [
    "credits.head()"
   ]
  },
  {
   "cell_type": "code",
   "execution_count": 5,
   "id": "c6cc3ce7",
   "metadata": {},
   "outputs": [],
   "source": [
    "# Merge credits dataframe into movies dataframe based on the movie title\n",
    "movies = movies.merge(credits, on='title')"
   ]
  },
  {
   "cell_type": "code",
   "execution_count": 6,
   "id": "778ef248",
   "metadata": {},
   "outputs": [],
   "source": [
    "# Select the required columns for the model\n",
    "movies = movies[['movie_id', 'title', 'overview', 'genres', 'keywords', 'cast', 'crew']]"
   ]
  },
  {
   "cell_type": "code",
   "execution_count": 7,
   "id": "076b7156",
   "metadata": {},
   "outputs": [],
   "source": [
    "# Check for null values\n",
    "movies.isnull().sum()"
   ]
  },
  {
   "cell_type": "code",
   "execution_count": 8,
   "id": "c3e04c48",
   "metadata": {},
   "outputs": [],
   "source": [
    "# Drop missing values\n",
    "movies.dropna(inplace=True)"
   ]
  },
  {
   "cell_type": "code",
   "execution_count": 9,
   "id": "02802306",
   "metadata": {},
   "outputs": [],
   "source": [
    "# Check for duplicates\n",
    "movies.duplicated().sum()"
   ]
  },
  {
   "cell_type": "code",
   "execution_count": 10,
   "id": "712ba7a2",
   "metadata": {},
   "outputs": [],
   "source": [
    "movies.head()"
   ]
  },
  {
   "cell_type": "code",
   "execution_count": 11,
   "id": "fe4904d6",
   "metadata": {},
   "outputs": [],
   "source": [
    "# Format the genres section by extracting the genre names\n",
    "def convert(obj):\n",
    "    L = []\n",
    "    for i in ast.literal_eval(obj):\n",
    "        L.append(i['name'])\n",
    "    return L"
   ]
  },
  {
   "cell_type": "code",
   "execution_count": 12,
   "id": "aecc811b",
   "metadata": {},
   "outputs": [],
   "source": [
    "movies['genres'] = movies['genres'].apply(convert)"
   ]
  },
  {
   "cell_type": "code",
   "execution_count": 13,
   "id": "d429369b",
   "metadata": {},
   "outputs": [],
   "source": [
    "# Format the keywords section by extracting the keyword names\n",
    "movies['keywords'] = movies['keywords'].apply(convert)"
   ]
  },
  {
   "cell_type": "code",
   "execution_count": 14,
   "id": "70677a78",
   "metadata": {},
   "outputs": [],
   "source": [
    "# Format the cast section by extracting the cast names (limited to 3)\n",
    "def convertcast(obj):\n",
    "    L = []\n",
    "    counter = 0\n",
    "    for i in ast.literal_eval(obj):\n",
    "        if counter != 3:\n",
    "            L.append(i['name'])\n",
    "            counter += 1\n",
    "        else:\n",
    "            break\n",
    "    return L\n",
    "\n",
    "movies['cast'] = movies['cast'].apply(convertcast)"
   ]
  },
  {
   "cell_type": "code",
   "execution_count": 15,
   "id": "5bb5dbe0",
   "metadata": {},
   "outputs": [],
   "source": [
    "# Fetch the director name from the crew section\n",
    "def fetch_director(obj):\n",
    "    L = []\n",
    "    for i in ast.literal_eval(obj):\n",
    "        if i['job'] == 'Director':\n",
    "            L.append(i['name'])\n",
    "            break\n",
    "    return L\n",
    "\n",
    "movies['crew'] = movies['crew'].apply(fetch_director)\n"
   ]
  },
  {
   "cell_type": "code",
   "execution_count": 16,
   "id": "e02405a4",
   "metadata": {},
   "outputs": [],
   "source": [
    "# Split the overview section into a list of words\n",
    "movies['overview'] = movies['overview'].apply(lambda x: x.split())"
   ]
  },
  {
   "cell_type": "code",
   "execution_count": 17,
   "id": "e2e28855",
   "metadata": {},
   "outputs": [],
   "source": [
    "# Remove white spaces between words in genres, keywords, cast, and crew sections\n",
    "def collapse(L):\n",
    "    L1 = []\n",
    "    for i in L:\n",
    "        L1.append(i.replace(\" \", \"\"))\n",
    "    return L1\n",
    "\n",
    "movies['genres'] = movies['genres'].apply(collapse)\n",
    "movies['keywords'] = movies['keywords'].apply(collapse)\n",
    "movies['cast'] = movies['cast'].apply(collapse)\n",
    "movies['crew'] = movies['crew'].apply(collapse)"
   ]
  },
  {
   "cell_type": "code",
   "execution_count": 18,
   "id": "ff644eeb",
   "metadata": {},
   "outputs": [],
   "source": [
    "# Create a 'tags' column to merge overview, genres, keywords, cast, and crew sections\n",
    "movies['tags'] = movies['overview'] + movies['genres'] + movies['keywords'] + movies['cast'] + movies['crew']"
   ]
  },
  {
   "cell_type": "code",
   "execution_count": 19,
   "id": "9490bca0",
   "metadata": {},
   "outputs": [],
   "source": [
    "# Create a new dataframe with movie_id, title, and tags columns\n",
    "new_df = movies[['movie_id', 'title', 'tags']]"
   ]
  },
  {
   "cell_type": "code",
   "execution_count": 20,
   "id": "3722b07f",
   "metadata": {},
   "outputs": [],
   "source": [
    "# Convert tags from list to string\n",
    "new_df['tags'] = new_df['tags'].apply(lambda x: \" \".join(x))"
   ]
  },
  {
   "cell_type": "code",
   "execution_count": 21,
   "id": "86c6233d",
   "metadata": {},
   "outputs": [],
   "source": [
    "# Converting in lower-case\n",
    "new_df['tags'] = new_df['tags'].apply(lambda x:x.lower())\n",
    "new_df.head()"
   ]
  },
  {
   "cell_type": "code",
   "execution_count": 22,
   "id": "ef7f6627",
   "metadata": {},
   "outputs": [],
   "source": [
    "# Vectorization\n",
    "from sklearn.feature_extraction.text import CountVectorizer\n",
    "cv = CountVectorizer(max_features = 5000,stop_words= 'english')"
   ]
  },
  {
   "cell_type": "code",
   "execution_count": 23,
   "id": "9b5e06e5",
   "metadata": {},
   "outputs": [],
   "source": [
    "# Convert the tags into numerical vectors\n",
    "vectors = cv.fit_transform(new_df['tags']).toarray()"
   ]
  },
  {
   "cell_type": "code",
   "execution_count": 24,
   "id": "7b1be993",
   "metadata": {},
   "outputs": [],
   "source": [
    "# Get the feature names\n",
    "cv.get_feature_names_out()"
   ]
  },
  {
   "cell_type": "code",
   "execution_count": 25,
   "id": "22e5450e",
   "metadata": {},
   "outputs": [],
   "source": [
    "# Calculate cosine similarity between the vectors\n",
    "from sklearn.metrics.pairwise import cosine_similarity\n",
    "similarity = cosine_similarity(vectors)"
   ]
  },
  {
   "cell_type": "code",
   "execution_count": 26,
   "id": "aa1864ae",
   "metadata": {},
   "outputs": [],
   "source": [
    "# Create a recommend function to fetch similar movies\n",
    "def recommend(movie):\n",
    "    movie_index = new_df[new_df['title'] == movie].index[0]\n",
    "    distances = similarity[movie_index]\n",
    "    movies_list = sorted(list(enumerate(distances)), reverse=True, key=lambda x: x[1])[1:6]\n",
    "\n",
    "    for i in movies_list:\n",
    "        print(new_df.iloc[i[0]].title)"
   ]
  },
  {
   "cell_type": "code",
   "execution_count": 27,
   "id": "7c86031a",
   "metadata": {},
   "outputs": [],
   "source": [
    "# Example usage\n",
    "recommend('Inception')"
   ]
  },
  {
   "cell_type": "code",
   "execution_count": null,
   "id": "f3a0336b",
   "metadata": {},
   "outputs": [],
   "source": [
    "    "
   ]
  }
 ],
 "metadata": {
  "kernelspec": {
   "display_name": "Python 3 (ipykernel)",
   "language": "python",
   "name": "python3"
  },
  "language_info": {
   "codemirror_mode": {
    "name": "ipython",
    "version": 3
   },
   "file_extension": ".py",
   "mimetype": "text/x-python",
   "name": "python",
   "nbconvert_exporter": "python",
   "pygments_lexer": "ipython3",
   "version": "3.10.9"
  }
 },
 "nbformat": 4,
 "nbformat_minor": 5
}
